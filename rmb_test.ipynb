{
 "cells": [
  {
   "cell_type": "code",
   "execution_count": 20,
   "metadata": {},
   "outputs": [],
   "source": [
    "import numpy as np\n",
    "from rbm import  visibleToHiddenVec, hiddenToVisible"
   ]
  },
  {
   "cell_type": "code",
   "execution_count": 21,
   "metadata": {},
   "outputs": [],
   "source": [
    "d_v = 16\n",
    "\n",
    "d_h = 8\n",
    "\n",
    "k = 5"
   ]
  },
  {
   "cell_type": "code",
   "execution_count": 22,
   "metadata": {},
   "outputs": [
    {
     "data": {
      "text/plain": [
       "array([[1., 0., 0., 0., 0.],\n",
       "       [0., 1., 0., 0., 0.],\n",
       "       [0., 0., 1., 0., 0.],\n",
       "       [0., 0., 0., 1., 0.],\n",
       "       [0., 0., 0., 0., 1.],\n",
       "       [1., 0., 0., 0., 0.],\n",
       "       [0., 1., 0., 0., 0.],\n",
       "       [0., 0., 1., 0., 0.],\n",
       "       [0., 0., 0., 1., 0.],\n",
       "       [0., 0., 0., 0., 1.],\n",
       "       [1., 0., 0., 0., 0.],\n",
       "       [0., 1., 0., 0., 0.],\n",
       "       [0., 0., 1., 0., 0.],\n",
       "       [0., 0., 0., 1., 0.],\n",
       "       [0., 0., 0., 0., 1.],\n",
       "       [1., 0., 0., 0., 0.]])"
      ]
     },
     "execution_count": 22,
     "metadata": {},
     "output_type": "execute_result"
    }
   ],
   "source": [
    "test_v = np.concatenate(\n",
    "    [np.eye(k, k) for _ in range(d_v // k)] + [np.eye(k, k)[:d_v % k]],\n",
    "    axis=0\n",
    ")\n",
    "\n",
    "test_v "
   ]
  },
  {
   "cell_type": "code",
   "execution_count": 23,
   "metadata": {},
   "outputs": [
    {
     "data": {
      "text/plain": [
       "array([0, 0, 0, 1, 1, 1, 1, 1])"
      ]
     },
     "execution_count": 23,
     "metadata": {},
     "output_type": "execute_result"
    }
   ],
   "source": [
    "test_h = np.random.binomial(1, .5, d_h)\n",
    "\n",
    "test_h"
   ]
  },
  {
   "cell_type": "code",
   "execution_count": 24,
   "metadata": {},
   "outputs": [
    {
     "data": {
      "text/plain": [
       "(16, 8, 5)"
      ]
     },
     "execution_count": 24,
     "metadata": {},
     "output_type": "execute_result"
    }
   ],
   "source": [
    "test_w = np.random.rand(d_v, d_h, k)\n",
    "\n",
    "test_w.shape"
   ]
  },
  {
   "cell_type": "code",
   "execution_count": 25,
   "metadata": {},
   "outputs": [
    {
     "data": {
      "text/plain": [
       "array([0.99990415, 0.9997174 , 0.99977217, 0.99887106, 0.999607  ,\n",
       "       0.99974973, 0.99874149, 0.99993232])"
      ]
     },
     "execution_count": 25,
     "metadata": {},
     "output_type": "execute_result"
    }
   ],
   "source": [
    "visibleToHiddenVec(test_v, test_w)"
   ]
  },
  {
   "cell_type": "code",
   "execution_count": 26,
   "metadata": {},
   "outputs": [
    {
     "data": {
      "text/plain": [
       "array([[0.07552013, 0.24591318, 0.28586845, 0.19633729, 0.19636095],\n",
       "       [0.07271549, 0.44253242, 0.13592133, 0.29795449, 0.05087627],\n",
       "       [0.21979391, 0.2456276 , 0.13877556, 0.06015563, 0.33564731],\n",
       "       [0.13017642, 0.22161792, 0.11487526, 0.17293019, 0.36040021],\n",
       "       [0.31118355, 0.1371315 , 0.1617828 , 0.10701421, 0.28288793],\n",
       "       [0.21692043, 0.24002358, 0.12360856, 0.19450672, 0.22494072],\n",
       "       [0.40604386, 0.11754117, 0.17520877, 0.17002414, 0.13118206],\n",
       "       [0.25470337, 0.57635434, 0.06080839, 0.08169148, 0.02644242],\n",
       "       [0.21842235, 0.11025736, 0.05720797, 0.28783793, 0.32627439],\n",
       "       [0.22268197, 0.19298969, 0.10140522, 0.25269769, 0.23022542],\n",
       "       [0.25805495, 0.14065578, 0.13687637, 0.28696955, 0.17744336],\n",
       "       [0.19830339, 0.11179176, 0.13400331, 0.27142057, 0.28448097],\n",
       "       [0.14087141, 0.37212727, 0.07333559, 0.09207474, 0.32159099],\n",
       "       [0.27333517, 0.1767007 , 0.35452836, 0.14960655, 0.04582923],\n",
       "       [0.28942485, 0.19237235, 0.09357586, 0.23544009, 0.18918687],\n",
       "       [0.15685158, 0.40543598, 0.17182356, 0.16122482, 0.10466406]])"
      ]
     },
     "execution_count": 26,
     "metadata": {},
     "output_type": "execute_result"
    }
   ],
   "source": [
    "hiddenToVisible(test_h, test_w)"
   ]
  }
 ],
 "metadata": {
  "kernelspec": {
   "display_name": "Python 3",
   "language": "python",
   "name": "python3"
  },
  "language_info": {
   "codemirror_mode": {
    "name": "ipython",
    "version": 3
   },
   "file_extension": ".py",
   "mimetype": "text/x-python",
   "name": "python",
   "nbconvert_exporter": "python",
   "pygments_lexer": "ipython3",
   "version": "3.9.13"
  }
 },
 "nbformat": 4,
 "nbformat_minor": 2
}
